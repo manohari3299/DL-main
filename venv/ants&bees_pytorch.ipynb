{
 "cells": [
  {
   "cell_type": "code",
   "execution_count": 1,
   "id": "957604c8",
   "metadata": {},
   "outputs": [],
   "source": [
    "import os\n",
    "import torch\n",
    "import torch.nn as nn\n",
    "import torch.optim as optim\n",
    "from torchvision import datasets,transforms,models\n",
    "from torch.utils.data import DataLoader"
   ]
  },
  {
   "cell_type": "code",
   "execution_count": 2,
   "id": "3aa5b13b",
   "metadata": {},
   "outputs": [],
   "source": [
    "transforms={'train':transforms.Compose([\n",
    "    transforms.ToTensor(),\n",
    "    transforms.RandomResizedCrop(128),\n",
    "    transforms.RandomHorizontalFlip(),\n",
    "    transforms.Normalize((0.5,0.5,0.5),(0.5,0.5,0.5))]),\n",
    "    'val':transforms.Compose([\n",
    "    transforms.ToTensor(),\n",
    "    transforms.RandomResizedCrop(128),\n",
    "    transforms.RandomHorizontalFlip(),\n",
    "    transforms.Normalize((0.5,0.5,0.5),(0.5,0.5,0.5))])\n",
    "}"
   ]
  },
  {
   "cell_type": "code",
   "execution_count": 12,
   "id": "033556f5",
   "metadata": {},
   "outputs": [],
   "source": [
    "data_dir=r\"C:\\Users\\RENUKA\\Downloads\\hymenoptera_data\"\n",
    "#image_datasets={x:datasets.ImageFolder(os.path.join(data_dir,x),transform=transforms[x]) for x in ['train','val']}\n"
   ]
  },
  {
   "cell_type": "code",
   "execution_count": 13,
   "id": "4388067e",
   "metadata": {},
   "outputs": [],
   "source": [
    "image_datasets={}\n",
    "image_datasets['train']=datasets.ImageFolder(os.path.join(data_dir,'train'),transform=transforms['train'])\n",
    "image_datasets['val']=datasets.ImageFolder(os.path.join(data_dir,'val'),transform=transforms['val'])"
   ]
  },
  {
   "cell_type": "code",
   "execution_count": 14,
   "id": "26909c1f",
   "metadata": {},
   "outputs": [],
   "source": [
    "data_loader={}\n",
    "data_loader['train']=DataLoader(image_datasets['train'],batch_size=32,shuffle=True)\n",
    "data_loader['val']=DataLoader(image_datasets['val'],batch_size=32,shuffle=True)"
   ]
  },
  {
   "cell_type": "code",
   "execution_count": 20,
   "id": "5370f618",
   "metadata": {},
   "outputs": [
    {
     "name": "stderr",
     "output_type": "stream",
     "text": [
      "c:\\Users\\RENUKA\\Downloads\\DL-main\\venv\\lib\\site-packages\\torchvision\\models\\_utils.py:208: UserWarning: The parameter 'pretrained' is deprecated since 0.13 and may be removed in the future, please use 'weights' instead.\n",
      "  warnings.warn(\n",
      "c:\\Users\\RENUKA\\Downloads\\DL-main\\venv\\lib\\site-packages\\torchvision\\models\\_utils.py:223: UserWarning: Arguments other than a weight enum or `None` for 'weights' are deprecated since 0.13 and may be removed in the future. The current behavior is equivalent to passing `weights=ResNet18_Weights.IMAGENET1K_V1`. You can also use `weights=ResNet18_Weights.DEFAULT` to get the most up-to-date weights.\n",
      "  warnings.warn(msg)\n"
     ]
    }
   ],
   "source": [
    "model=models.resnet18(pretrained=True)\n",
    "#print(model)\n",
    "model_ftrs=model.fc.in_features\n",
    "model_ft=nn.Linear(model_ftrs,out_features=2)\n",
    "model.fc=model_ft\n",
    "criterian=nn.CrossEntropyLoss()\n",
    "optimizer=optim.Adam(model_ft.parameters(),lr=0.0001)"
   ]
  },
  {
   "cell_type": "code",
   "execution_count": 31,
   "id": "3c521fc6",
   "metadata": {},
   "outputs": [
    {
     "name": "stderr",
     "output_type": "stream",
     "text": [
      "c:\\Users\\RENUKA\\Downloads\\DL-main\\venv\\lib\\site-packages\\torchvision\\models\\_utils.py:208: UserWarning: The parameter 'pretrained' is deprecated since 0.13 and may be removed in the future, please use 'weights' instead.\n",
      "  warnings.warn(\n",
      "c:\\Users\\RENUKA\\Downloads\\DL-main\\venv\\lib\\site-packages\\torchvision\\models\\_utils.py:223: UserWarning: Arguments other than a weight enum or `None` for 'weights' are deprecated since 0.13 and may be removed in the future. The current behavior is equivalent to passing `weights=ResNet34_Weights.IMAGENET1K_V1`. You can also use `weights=ResNet34_Weights.DEFAULT` to get the most up-to-date weights.\n",
      "  warnings.warn(msg)\n"
     ]
    },
    {
     "name": "stdout",
     "output_type": "stream",
     "text": [
      "Downloading: \"https://download.pytorch.org/models/resnet34-b627a593.pth\" to C:\\Users\\RENUKA/.cache\\torch\\hub\\checkpoints\\resnet34-b627a593.pth\n"
     ]
    },
    {
     "name": "stderr",
     "output_type": "stream",
     "text": [
      "100.0%\n"
     ]
    }
   ],
   "source": [
    "model = models.resnet34(pretrained=True)\n",
    "model_ftrs = model.fc.in_features\n",
    "model_ft = nn.Linear(model_ftrs, out_features=2)\n",
    "model.fc = model_ft\n",
    "criterian = nn.CrossEntropyLoss()\n",
    "optimizer = optim.Adam(model_ft.parameters(), lr=0.0001)\n"
   ]
  },
  {
   "cell_type": "code",
   "execution_count": 32,
   "id": "45011469",
   "metadata": {},
   "outputs": [
    {
     "name": "stdout",
     "output_type": "stream",
     "text": [
      "0.878360390663147\n",
      "0.7612878084182739\n"
     ]
    }
   ],
   "source": [
    "for epoch in range(2):\n",
    "    for input,label in data_loader['train']:\n",
    "        output=model(input)\n",
    "        loss=criterian(output,label)\n",
    "        loss.backward()\n",
    "        optimizer.step()\n",
    "        optimizer.zero_grad()\n",
    "    print(loss.item())\n"
   ]
  },
  {
   "cell_type": "code",
   "execution_count": 33,
   "id": "001f7cd3",
   "metadata": {},
   "outputs": [
    {
     "name": "stdout",
     "output_type": "stream",
     "text": [
      "0.7907413840293884\n",
      "0.7392697334289551\n",
      "0.6825327277183533\n",
      "0.666350781917572\n",
      "0.7112206220626831\n",
      "0.7906944155693054\n",
      "0.709176242351532\n",
      "0.5607272386550903\n",
      "0.5538976192474365\n",
      "0.5364946126937866\n"
     ]
    }
   ],
   "source": [
    "for epoch in range(10):\n",
    "    for input,label in data_loader['train']:\n",
    "        output=model(input)\n",
    "        loss=criterian(output,label)\n",
    "        loss.backward()\n",
    "        optimizer.step()\n",
    "        optimizer.zero_grad()\n",
    "    print(loss.item())"
   ]
  },
  {
   "cell_type": "code",
   "execution_count": 34,
   "id": "f707f694",
   "metadata": {},
   "outputs": [
    {
     "name": "stdout",
     "output_type": "stream",
     "text": [
      "0.5736770033836365\n",
      "0.486596018075943\n",
      "0.598943293094635\n",
      "0.4987354278564453\n",
      "0.40751513838768005\n",
      "0.7336306571960449\n",
      "0.4004407525062561\n",
      "0.36750608682632446\n",
      "0.5170836448669434\n",
      "0.4511427879333496\n",
      "0.4378346800804138\n",
      "0.3344998359680176\n",
      "0.36948269605636597\n",
      "0.3849993646144867\n",
      "0.33867883682250977\n",
      "0.4839918613433838\n",
      "0.4881190359592438\n",
      "0.5253108143806458\n",
      "0.46802598237991333\n",
      "0.3591793179512024\n",
      "0.4403553605079651\n",
      "0.33548206090927124\n",
      "0.4827133119106293\n",
      "0.4063955247402191\n",
      "0.5185629725456238\n",
      "0.4327932894229889\n",
      "0.5388267636299133\n",
      "0.2974368929862976\n",
      "0.3195198178291321\n",
      "0.22972574830055237\n"
     ]
    }
   ],
   "source": [
    "for epoch in range(30):\n",
    "    for input,label in data_loader['train']:\n",
    "        output=model(input)\n",
    "        loss=criterian(output,label)\n",
    "        loss.backward()\n",
    "        optimizer.step()\n",
    "        optimizer.zero_grad()\n",
    "    print(loss.item())"
   ]
  },
  {
   "cell_type": "code",
   "execution_count": 35,
   "id": "3689caa5",
   "metadata": {},
   "outputs": [
    {
     "name": "stdout",
     "output_type": "stream",
     "text": [
      "Accuracy: 83.00653594771242%\n",
      "127 153\n"
     ]
    }
   ],
   "source": [
    "model.eval()\n",
    "with torch.no_grad():\n",
    "    correct=0\n",
    "    total=0\n",
    "    for input,label in data_loader['val']:\n",
    "        output=model(input)\n",
    "        _,predicted=torch.max(output.data,1)\n",
    "        total+=label.size(0)\n",
    "        correct+=(predicted==label).sum().item()\n",
    "    print('Accuracy: {}%'.format(100*correct/total))\n",
    "    print(correct,total)"
   ]
  },
  {
   "cell_type": "code",
   "execution_count": null,
   "id": "ad6a29a2",
   "metadata": {},
   "outputs": [],
   "source": [
    "model=[models.resnet50(pretrained=True),\n",
    "       models.resnet101(pretrained=True),\n",
    "       models.resnet152(pretrained=True),\n",
    "       models.vgg16(pretrained=True),\n",
    "       models.vgg19(pretrained=True)]\n",
    "for m in model:\n",
    "    model_ftrs=m.fc.in_features\n",
    "    model_ft=nn.Linear(model_ftrs,out_features=2)\n",
    "    m.fc=model_ft\n",
    "    criterian=nn.CrossEntropyLoss()\n",
    "    optimizer=optim.Adam(model_ft.parameters(),lr=0.0001)\n",
    "    for epoch in range(10):\n",
    "        for input,label in data_loader['train']:\n",
    "            output=m(input)\n",
    "            loss=criterian(output,label)\n",
    "            loss.backward()\n",
    "            optimizer.step()\n",
    "            optimizer.zero_grad()\n",
    "        print(loss.item())\n",
    "    m.eval()\n",
    "    with torch.no_grad():\n",
    "        correct=0\n",
    "        total=0\n",
    "        for input,label in data_loader['val']:\n",
    "            output=m(input)\n",
    "            _,predicted=torch.max(output.data,1)\n",
    "            total+=label.size(0)\n",
    "            correct+=(predicted==label).sum().item()\n",
    "        print('Accuracy: {}%'.format(100*correct/total))\n",
    "        print(correct,total)"
   ]
  }
 ],
 "metadata": {
  "kernelspec": {
   "display_name": "venv",
   "language": "python",
   "name": "python3"
  },
  "language_info": {
   "codemirror_mode": {
    "name": "ipython",
    "version": 3
   },
   "file_extension": ".py",
   "mimetype": "text/x-python",
   "name": "python",
   "nbconvert_exporter": "python",
   "pygments_lexer": "ipython3",
   "version": "3.10.0rc2"
  }
 },
 "nbformat": 4,
 "nbformat_minor": 5
}
