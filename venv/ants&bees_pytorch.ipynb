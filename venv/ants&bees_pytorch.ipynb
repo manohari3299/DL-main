{
 "cells": [
  {
   "cell_type": "code",
   "execution_count": 1,
   "id": "957604c8",
   "metadata": {},
   "outputs": [],
   "source": [
    "import os\n",
    "import torch\n",
    "import torch.nn as nn\n",
    "import torch.optim as optim\n",
    "from torchvision import datasets,transforms,models\n",
    "from torch.utils.data import DataLoader"
   ]
  },
  {
   "cell_type": "code",
   "execution_count": 2,
   "id": "3aa5b13b",
   "metadata": {},
   "outputs": [],
   "source": [
    "transforms={'train':transforms.Compose([\n",
    "    transforms.ToTensor(),\n",
    "    transforms.RandomResizedCrop(128),\n",
    "    transforms.RandomHorizontalFlip(),\n",
    "    transforms.Normalize((0.5,0.5,0.5),(0.5,0.5,0.5))]),\n",
    "    'val':transforms.Compose([\n",
    "    transforms.ToTensor(),\n",
    "    transforms.RandomResizedCrop(128),\n",
    "    transforms.RandomHorizontalFlip(),\n",
    "    transforms.Normalize((0.5,0.5,0.5),(0.5,0.5,0.5))])\n",
    "}"
   ]
  },
  {
   "cell_type": "code",
   "execution_count": 12,
   "id": "033556f5",
   "metadata": {},
   "outputs": [],
   "source": [
    "data_dir=r\"C:\\Users\\RENUKA\\Downloads\\hymenoptera_data\"\n",
    "#image_datasets={x:datasets.ImageFolder(os.path.join(data_dir,x),transform=transforms[x]) for x in ['train','val']}\n"
   ]
  },
  {
   "cell_type": "code",
   "execution_count": 13,
   "id": "4388067e",
   "metadata": {},
   "outputs": [],
   "source": [
    "image_datasets={}\n",
    "image_datasets['train']=datasets.ImageFolder(os.path.join(data_dir,'train'),transform=transforms['train'])\n",
    "image_datasets['val']=datasets.ImageFolder(os.path.join(data_dir,'val'),transform=transforms['val'])"
   ]
  },
  {
   "cell_type": "code",
   "execution_count": 14,
   "id": "26909c1f",
   "metadata": {},
   "outputs": [],
   "source": [
    "data_loader={}\n",
    "data_loader['train']=DataLoader(image_datasets['train'],batch_size=32,shuffle=True)\n",
    "data_loader['val']=DataLoader(image_datasets['val'],batch_size=32,shuffle=True)"
   ]
  },
  {
   "cell_type": "code",
   "execution_count": 20,
   "id": "5370f618",
   "metadata": {},
   "outputs": [
    {
     "name": "stderr",
     "output_type": "stream",
     "text": [
      "c:\\Users\\RENUKA\\Downloads\\DL-main\\venv\\lib\\site-packages\\torchvision\\models\\_utils.py:208: UserWarning: The parameter 'pretrained' is deprecated since 0.13 and may be removed in the future, please use 'weights' instead.\n",
      "  warnings.warn(\n",
      "c:\\Users\\RENUKA\\Downloads\\DL-main\\venv\\lib\\site-packages\\torchvision\\models\\_utils.py:223: UserWarning: Arguments other than a weight enum or `None` for 'weights' are deprecated since 0.13 and may be removed in the future. The current behavior is equivalent to passing `weights=ResNet18_Weights.IMAGENET1K_V1`. You can also use `weights=ResNet18_Weights.DEFAULT` to get the most up-to-date weights.\n",
      "  warnings.warn(msg)\n"
     ]
    }
   ],
   "source": [
    "model=models.resnet18(pretrained=True)\n",
    "#print(model)\n",
    "model_ftrs=model.fc.in_features\n",
    "model_ft=nn.Linear(model_ftrs,out_features=2)\n",
    "model.fc=model_ft\n",
    "criterian=nn.CrossEntropyLoss()\n",
    "optimizer=optim.Adam(model_ft.parameters(),lr=0.0001)"
   ]
  },
  {
   "cell_type": "code",
   "execution_count": 21,
   "id": "45011469",
   "metadata": {},
   "outputs": [
    {
     "name": "stdout",
     "output_type": "stream",
     "text": [
      "0.8869510889053345\n",
      "0.8826826810836792\n"
     ]
    }
   ],
   "source": [
    "for epoch in range(2):\n",
    "    for input,label in data_loader['train']:\n",
    "        output=model(input)\n",
    "        loss=criterian(output,label)\n",
    "        loss.backward()\n",
    "        optimizer.step()\n",
    "        optimizer.zero_grad()\n",
    "    print(loss.item())\n"
   ]
  },
  {
   "cell_type": "code",
   "execution_count": 22,
   "id": "001f7cd3",
   "metadata": {},
   "outputs": [
    {
     "name": "stdout",
     "output_type": "stream",
     "text": [
      "0.8490468263626099\n",
      "0.7543235421180725\n",
      "0.717172384262085\n",
      "0.6838964223861694\n",
      "0.5612136125564575\n",
      "0.5951013565063477\n",
      "0.6407083868980408\n",
      "0.6142991781234741\n",
      "0.6882085204124451\n",
      "0.5418289303779602\n"
     ]
    }
   ],
   "source": [
    "for epoch in range(10):\n",
    "    for input,label in data_loader['train']:\n",
    "        output=model(input)\n",
    "        loss=criterian(output,label)\n",
    "        loss.backward()\n",
    "        optimizer.step()\n",
    "        optimizer.zero_grad()\n",
    "    print(loss.item())"
   ]
  },
  {
   "cell_type": "code",
   "execution_count": 28,
   "id": "f707f694",
   "metadata": {},
   "outputs": [
    {
     "name": "stdout",
     "output_type": "stream",
     "text": [
      "0.27332866191864014\n",
      "0.34075120091438293\n",
      "0.38810041546821594\n",
      "0.3913235068321228\n",
      "0.33895644545555115\n",
      "0.20353849232196808\n",
      "0.37649208307266235\n",
      "0.24013420939445496\n",
      "0.25799819827079773\n",
      "0.2223425805568695\n",
      "0.19087925553321838\n",
      "0.2261885106563568\n",
      "0.42134562134742737\n",
      "0.2006295621395111\n",
      "0.4679161608219147\n",
      "0.3343377709388733\n",
      "0.36611080169677734\n",
      "0.15578041970729828\n",
      "0.2586381733417511\n",
      "0.18054743111133575\n",
      "0.20507733523845673\n",
      "0.17290307581424713\n",
      "0.2823600471019745\n",
      "0.1687946617603302\n",
      "0.19618412852287292\n",
      "0.24501600861549377\n",
      "0.2106773555278778\n",
      "0.249581977725029\n",
      "0.18105193972587585\n",
      "0.17640838027000427\n",
      "0.16734270751476288\n",
      "0.31794601678848267\n",
      "0.299579918384552\n",
      "0.1728762686252594\n",
      "0.16256073117256165\n",
      "0.27960023283958435\n",
      "0.2121279239654541\n",
      "0.2526249885559082\n",
      "0.16374200582504272\n",
      "0.20628264546394348\n",
      "0.18061555922031403\n",
      "0.31165456771850586\n",
      "0.16787932813167572\n",
      "0.14465150237083435\n",
      "0.1715533286333084\n",
      "0.1051882952451706\n",
      "0.12757869064807892\n",
      "0.1484847515821457\n",
      "0.23116841912269592\n",
      "0.13962233066558838\n",
      "0.3050172030925751\n",
      "0.14925317466259003\n",
      "0.15661731362342834\n",
      "0.1999366581439972\n",
      "0.19529566168785095\n",
      "0.2763393223285675\n",
      "0.11412467062473297\n",
      "0.09231887757778168\n",
      "0.18127816915512085\n",
      "0.2640942633152008\n",
      "0.1958450973033905\n",
      "0.3737183213233948\n",
      "0.18432796001434326\n",
      "0.24055850505828857\n",
      "0.09645334631204605\n",
      "0.22869662940502167\n",
      "0.22972345352172852\n",
      "0.1371285766363144\n",
      "0.15142755210399628\n",
      "0.20924504101276398\n"
     ]
    }
   ],
   "source": [
    "for epoch in range(70):\n",
    "    for input,label in data_loader['train']:\n",
    "        output=model(input)\n",
    "        loss=criterian(output,label)\n",
    "        loss.backward()\n",
    "        optimizer.step()\n",
    "        optimizer.zero_grad()\n",
    "    print(loss.item())"
   ]
  },
  {
   "cell_type": "code",
   "execution_count": 29,
   "id": "3689caa5",
   "metadata": {},
   "outputs": [
    {
     "name": "stdout",
     "output_type": "stream",
     "text": [
      "Accuracy: 88.88888888888889%\n",
      "136 153\n"
     ]
    }
   ],
   "source": [
    "model.eval()\n",
    "with torch.no_grad():\n",
    "    correct=0\n",
    "    total=0\n",
    "    for input,label in data_loader['val']:\n",
    "        output=model(input)\n",
    "        _,predicted=torch.max(output.data,1)\n",
    "        total+=label.size(0)\n",
    "        correct+=(predicted==label).sum().item()\n",
    "    print('Accuracy: {}%'.format(100*correct/total))\n",
    "    print(correct,total)"
   ]
  }
 ],
 "metadata": {
  "kernelspec": {
   "display_name": "venv",
   "language": "python",
   "name": "python3"
  },
  "language_info": {
   "codemirror_mode": {
    "name": "ipython",
    "version": 3
   },
   "file_extension": ".py",
   "mimetype": "text/x-python",
   "name": "python",
   "nbconvert_exporter": "python",
   "pygments_lexer": "ipython3",
   "version": "3.10.0rc2"
  }
 },
 "nbformat": 4,
 "nbformat_minor": 5
}
